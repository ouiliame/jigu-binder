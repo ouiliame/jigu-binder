{
 "cells": [
  {
   "cell_type": "code",
   "execution_count": 1,
   "metadata": {},
   "outputs": [],
   "source": [
    "from jigu import Terra\n",
    "from jigu.core import *\n",
    "from jigu.core.msg import *\n",
    "from jigu.core.proposal import *\n",
    "\n",
    "terra = Terra(\"columbus-3\", \"https://fcd.terra.dev\")\n",
    "soju = Terra(\"soju-0013\", \"https://soju-fcd.terra.dev\")"
   ]
  },
  {
   "cell_type": "code",
   "execution_count": 2,
   "metadata": {},
   "outputs": [
    {
     "data": {
      "text/html": [
       "<table>\n",
       "<tbody>\n",
       "<tr><td><b>pool_recovery_period</b>   </td><td>14400       </td></tr>\n",
       "<tr><td><b>base_pool</b>              </td><td>250000000000</td></tr>\n",
       "<tr><td><b>min_spread</b>             </td><td>0.02        </td></tr>\n",
       "<tr><td><b>tobin_tax</b>              </td><td>0.0025      </td></tr>\n",
       "<tr><td><b>illiquid_tobin_tax_list</b></td><td><table>\n",
       "<tbody>\n",
       "<tr><td><b>umnt</b></td><td>0.02</td></tr>\n",
       "</tbody>\n",
       "</table>             </td></tr>\n",
       "</tbody>\n",
       "</table>"
      ],
      "text/plain": [
       "<ApiResponse JiguBox{'pool_recovery_period': 14400, 'base_pool': Dec('250000000000'), 'min_spread': Dec('0.02'), 'tobin_tax': Dec('0.0025'), 'illiquid_tobin_tax_list': {'umnt': Dec('0.02')}}>"
      ]
     },
     "execution_count": 2,
     "metadata": {},
     "output_type": "execute_result"
    }
   ],
   "source": [
    "terra.market.params()"
   ]
  },
  {
   "cell_type": "code",
   "execution_count": null,
   "metadata": {},
   "outputs": [],
   "source": []
  }
 ],
 "metadata": {
  "kernelspec": {
   "display_name": "Python 3",
   "language": "python",
   "name": "python3"
  },
  "language_info": {
   "codemirror_mode": {
    "name": "ipython",
    "version": 3
   },
   "file_extension": ".py",
   "mimetype": "text/x-python",
   "name": "python",
   "nbconvert_exporter": "python",
   "pygments_lexer": "ipython3",
   "version": "3.7.6"
  }
 },
 "nbformat": 4,
 "nbformat_minor": 4
}
